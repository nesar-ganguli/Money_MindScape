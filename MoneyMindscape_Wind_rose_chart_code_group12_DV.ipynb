{
  "nbformat": 4,
  "nbformat_minor": 0,
  "metadata": {
    "colab": {
      "provenance": []
    },
    "kernelspec": {
      "name": "python3",
      "display_name": "Python 3"
    },
    "language_info": {
      "name": "python"
    }
  },
  "cells": [
    {
      "cell_type": "markdown",
      "source": [
        "We used Rose chart to reveal seasonal spending patterns for categories like Utilities, groceries and Vacation. The inspiration for using the rose chart came from Florence Nightingale’s “rose chart” diagrams, which were taught in class as a pioneering example of how visualizations can effectively communicate complex data."
      ],
      "metadata": {
        "id": "JxQGJAXCR9IS"
      }
    },
    {
      "cell_type": "markdown",
      "source": [
        "The first step is installing the Dash framework, including its core components (dash, dash-core-components, dash-html-components, and dash-table)."
      ],
      "metadata": {
        "id": "EGpkfN9ZS6_9"
      }
    },
    {
      "cell_type": "code",
      "execution_count": 1,
      "metadata": {
        "colab": {
          "base_uri": "https://localhost:8080/"
        },
        "id": "UrdzaV2BjlQW",
        "outputId": "75dd623d-801a-4cb1-d51a-bd08d3347265"
      },
      "outputs": [
        {
          "output_type": "stream",
          "name": "stdout",
          "text": [
            "Collecting dash\n",
            "  Downloading dash-2.18.2-py3-none-any.whl.metadata (10 kB)\n",
            "Requirement already satisfied: Flask<3.1,>=1.0.4 in /usr/local/lib/python3.10/dist-packages (from dash) (3.0.3)\n",
            "Collecting Werkzeug<3.1 (from dash)\n",
            "  Downloading werkzeug-3.0.6-py3-none-any.whl.metadata (3.7 kB)\n",
            "Requirement already satisfied: plotly>=5.0.0 in /usr/local/lib/python3.10/dist-packages (from dash) (5.24.1)\n",
            "Collecting dash-html-components==2.0.0 (from dash)\n",
            "  Downloading dash_html_components-2.0.0-py3-none-any.whl.metadata (3.8 kB)\n",
            "Collecting dash-core-components==2.0.0 (from dash)\n",
            "  Downloading dash_core_components-2.0.0-py3-none-any.whl.metadata (2.9 kB)\n",
            "Collecting dash-table==5.0.0 (from dash)\n",
            "  Downloading dash_table-5.0.0-py3-none-any.whl.metadata (2.4 kB)\n",
            "Requirement already satisfied: importlib-metadata in /usr/local/lib/python3.10/dist-packages (from dash) (8.5.0)\n",
            "Requirement already satisfied: typing-extensions>=4.1.1 in /usr/local/lib/python3.10/dist-packages (from dash) (4.12.2)\n",
            "Requirement already satisfied: requests in /usr/local/lib/python3.10/dist-packages (from dash) (2.32.3)\n",
            "Collecting retrying (from dash)\n",
            "  Downloading retrying-1.3.4-py3-none-any.whl.metadata (6.9 kB)\n",
            "Requirement already satisfied: nest-asyncio in /usr/local/lib/python3.10/dist-packages (from dash) (1.6.0)\n",
            "Requirement already satisfied: setuptools in /usr/local/lib/python3.10/dist-packages (from dash) (75.1.0)\n",
            "Requirement already satisfied: Jinja2>=3.1.2 in /usr/local/lib/python3.10/dist-packages (from Flask<3.1,>=1.0.4->dash) (3.1.4)\n",
            "Requirement already satisfied: itsdangerous>=2.1.2 in /usr/local/lib/python3.10/dist-packages (from Flask<3.1,>=1.0.4->dash) (2.2.0)\n",
            "Requirement already satisfied: click>=8.1.3 in /usr/local/lib/python3.10/dist-packages (from Flask<3.1,>=1.0.4->dash) (8.1.7)\n",
            "Requirement already satisfied: blinker>=1.6.2 in /usr/local/lib/python3.10/dist-packages (from Flask<3.1,>=1.0.4->dash) (1.9.0)\n",
            "Requirement already satisfied: tenacity>=6.2.0 in /usr/local/lib/python3.10/dist-packages (from plotly>=5.0.0->dash) (9.0.0)\n",
            "Requirement already satisfied: packaging in /usr/local/lib/python3.10/dist-packages (from plotly>=5.0.0->dash) (24.2)\n",
            "Requirement already satisfied: MarkupSafe>=2.1.1 in /usr/local/lib/python3.10/dist-packages (from Werkzeug<3.1->dash) (3.0.2)\n",
            "Requirement already satisfied: zipp>=3.20 in /usr/local/lib/python3.10/dist-packages (from importlib-metadata->dash) (3.21.0)\n",
            "Requirement already satisfied: charset-normalizer<4,>=2 in /usr/local/lib/python3.10/dist-packages (from requests->dash) (3.4.0)\n",
            "Requirement already satisfied: idna<4,>=2.5 in /usr/local/lib/python3.10/dist-packages (from requests->dash) (3.10)\n",
            "Requirement already satisfied: urllib3<3,>=1.21.1 in /usr/local/lib/python3.10/dist-packages (from requests->dash) (2.2.3)\n",
            "Requirement already satisfied: certifi>=2017.4.17 in /usr/local/lib/python3.10/dist-packages (from requests->dash) (2024.8.30)\n",
            "Requirement already satisfied: six>=1.7.0 in /usr/local/lib/python3.10/dist-packages (from retrying->dash) (1.17.0)\n",
            "Downloading dash-2.18.2-py3-none-any.whl (7.8 MB)\n",
            "\u001b[2K   \u001b[90m━━━━━━━━━━━━━━━━━━━━━━━━━━━━━━━━━━━━━━━━\u001b[0m \u001b[32m7.8/7.8 MB\u001b[0m \u001b[31m38.8 MB/s\u001b[0m eta \u001b[36m0:00:00\u001b[0m\n",
            "\u001b[?25hDownloading dash_core_components-2.0.0-py3-none-any.whl (3.8 kB)\n",
            "Downloading dash_html_components-2.0.0-py3-none-any.whl (4.1 kB)\n",
            "Downloading dash_table-5.0.0-py3-none-any.whl (3.9 kB)\n",
            "Downloading werkzeug-3.0.6-py3-none-any.whl (227 kB)\n",
            "\u001b[2K   \u001b[90m━━━━━━━━━━━━━━━━━━━━━━━━━━━━━━━━━━━━━━━━\u001b[0m \u001b[32m228.0/228.0 kB\u001b[0m \u001b[31m13.4 MB/s\u001b[0m eta \u001b[36m0:00:00\u001b[0m\n",
            "\u001b[?25hDownloading retrying-1.3.4-py3-none-any.whl (11 kB)\n",
            "Installing collected packages: dash-table, dash-html-components, dash-core-components, Werkzeug, retrying, dash\n",
            "  Attempting uninstall: Werkzeug\n",
            "    Found existing installation: Werkzeug 3.1.3\n",
            "    Uninstalling Werkzeug-3.1.3:\n",
            "      Successfully uninstalled Werkzeug-3.1.3\n",
            "Successfully installed Werkzeug-3.0.6 dash-2.18.2 dash-core-components-2.0.0 dash-html-components-2.0.0 dash-table-5.0.0 retrying-1.3.4\n"
          ]
        }
      ],
      "source": [
        "!pip install dash"
      ]
    },
    {
      "cell_type": "markdown",
      "source": [
        "## Developing a Rose Chart"
      ],
      "metadata": {
        "id": "mMdV81eCWCw8"
      }
    },
    {
      "cell_type": "markdown",
      "source": [
        "1. Data Loading and Preprocessing - uses pd.read_excel() to load the specified sheet (Sheet1) from the Excel file into a Pandas DataFrame (sheet1_data), which serves as the dataset for our visualization.\n",
        "\n",
        "2. Extracting column names related to the categories (Groceries, Utilities, Vacation) from the dataset.\n",
        "\n",
        "3. mean(axis=0).values - For Computing the average spending for each category (Groceries, Utilities, Vacation) across months by taking the mean of corresponding columns and Converts the result into an array of numerical values for easy plotting.\n",
        "\n",
        "4. Dash Application Setup - Defining the layout of the app.\n",
        "dcc.Graph: The core component that renders the wind rose chart.\n",
        "id='interactive-wind-rose': Assigns an ID to the graph for callback updates.\n",
        "config={'displayModeBar': False}: Disables the mode bar (tool options) to declutter the interface.\n",
        "style: Specifies the size of the chart.\n",
        "\n",
        "5. Interactive Callback Function - Defines the interaction logic for updating the chart dynamically.\n",
        "Output: Updates the figure property of the graph with ID 'interactive-wind-rose'.\n",
        "Input: Tracks user interactions, such as hovering over the chart (hoverData).\n",
        "\n",
        "6. Visualization Creation - To build the rose chart.\n",
        "fig = go.Figure(): Initializes a Plotly figure\n",
        "\n",
        "7. Adding Data - Adds a Barpolar trace (a polar bar chart)\n",
        "r=groceries_avg: Radial values (lengths of the bars) represent average spending on groceries.\n",
        "theta=months: Angular positions correspond to months.\n",
        "name: Legend name for this trace.\n",
        "marker_color: Defines the color of the bars.\n",
        "opacity: Adjusts the visibility of the bars dynamically based on user hover.\n",
        "hovertemplate: Specifies the hover text template for better interactivity.\n",
        "Similar logic performed for utilities and vacation category too.\n",
        "\n",
        "8. Chart Customization - Customizes the layout and appearance of the rose chart.\n",
        "polar: Defines the polar coordinate system.\n",
        "Angular axis: Set to a clockwise direction with 90° rotation.\n",
        "Radial axis: Dynamically adjusts the range based on the highest spending.\n",
        "Colors: Dark mode (paper_bgcolor and plot_bgcolor) for aesthetics.\n",
        "Legend: Positioned at the bottom for clarity.\n",
        "\n",
        "9. Running the App - Launches the Dash app.\n",
        "debug=True: Enables live reloading and detailed error messages during development.\n"
      ],
      "metadata": {
        "id": "9HuoSDwSTR9A"
      }
    },
    {
      "cell_type": "code",
      "source": [
        "import pandas as pd\n",
        "import plotly.graph_objects as go\n",
        "from dash import Dash, dcc, html, Input, Output\n",
        "\n",
        "# Load your dataset\n",
        "file_path = '/content/Money_MindScape Jot form - almost final.xlsx'\n",
        "sheet1_data = pd.read_excel(file_path, sheet_name='Sheet1')\n",
        "\n",
        "# Extract relevant columns\n",
        "groceries_columns = [col for col in sheet1_data.columns if 'Groceries' in col]\n",
        "utilities_columns = [col for col in sheet1_data.columns if 'Utilities' in col]\n",
        "vacation_columns = [col for col in sheet1_data.columns if 'Vacation' in col]\n",
        "\n",
        "# Compute average values for the categories\n",
        "groceries_avg = sheet1_data[groceries_columns].mean(axis=0).values\n",
        "utilities_avg = sheet1_data[utilities_columns].mean(axis=0).values\n",
        "vacation_avg = sheet1_data[vacation_columns].mean(axis=0).values\n",
        "\n",
        "# Define months for the angular axis\n",
        "months = [col.split('_')[1] for col in groceries_columns]\n",
        "\n",
        "# Create the app\n",
        "app = Dash(__name__)\n",
        "\n",
        "# Layout of the Dash app\n",
        "app.layout = html.Div([\n",
        "    dcc.Graph(\n",
        "        id='interactive-wind-rose',\n",
        "        config={'displayModeBar': False},\n",
        "        style={'height': '800px', 'width': '100%'}  # Adjust height and width here\n",
        "    )\n",
        "])\n",
        "\n",
        "# Callback to dynamically update the chart\n",
        "@app.callback(\n",
        "    Output('interactive-wind-rose', 'figure'),\n",
        "    Input('interactive-wind-rose', 'hoverData')\n",
        ")\n",
        "def update_chart(hover_data):\n",
        "    # Determine which trace is being hovered over\n",
        "    hovered_trace = None\n",
        "    if hover_data and 'points' in hover_data:\n",
        "        hovered_trace = hover_data['points'][0]['curveNumber']\n",
        "\n",
        "    # Initialize the figure\n",
        "    fig = go.Figure()\n",
        "\n",
        "    # Add Groceries data\n",
        "    fig.add_trace(go.Barpolar(\n",
        "        r=groceries_avg,\n",
        "        theta=months,\n",
        "        name='🍎 Groceries',\n",
        "        marker_color='rgba(255, 165, 0, 0.7)',  # Semi-transparent orange\n",
        "        opacity=1.0 if hovered_trace == 0 else 0.3,\n",
        "        hoverinfo='text',\n",
        "        hovertemplate=\"<b>%{theta}</b><br>Groceries: %{r}<extra></extra>\"\n",
        "    ))\n",
        "\n",
        "    # Add Utilities data\n",
        "    fig.add_trace(go.Barpolar(\n",
        "        r=utilities_avg,\n",
        "        theta=months,\n",
        "        name='💡 Utilities',\n",
        "        marker_color='rgba(0, 123, 255, 0.7)',  # Semi-transparent blue\n",
        "        opacity=1.0 if hovered_trace == 1 else 0.3,\n",
        "        hoverinfo='text',\n",
        "        hovertemplate=\"<b>%{theta}</b><br>Utilities: %{r}<extra></extra>\"\n",
        "    ))\n",
        "\n",
        "    # Add Vacation data (instead of Subscriptions)\n",
        "    fig.add_trace(go.Barpolar(\n",
        "        r=vacation_avg,\n",
        "        theta=months,\n",
        "        name='🏖 Vacation',\n",
        "        marker_color='rgba(0, 255, 0, 0.7)',  # Semi-transparent green\n",
        "        opacity=1.0 if hovered_trace == 2 else 0.3,\n",
        "        hoverinfo='text',\n",
        "        hovertemplate=\"<b>%{theta}</b><br>Vacation: %{r}<extra></extra>\"\n",
        "    ))\n",
        "\n",
        "\n",
        "    # Update layout for customization (Dark mode, radial axis, etc.)\n",
        "    fig.update_layout(\n",
        "        title='Interactive Wind Rose Chart',\n",
        "        polar=dict(\n",
        "            angularaxis=dict(direction='clockwise', rotation=90, tickfont=dict(color='white')),\n",
        "            radialaxis=dict(visible=True, range=[0, max(max(groceries_avg), max(utilities_avg), max(vacation_avg))], showticklabels=False, gridcolor='rgba(255,255,255,0.1)'),\n",
        "        ),\n",
        "        paper_bgcolor=\"rgb(30,30,30)\",\n",
        "        plot_bgcolor=\"rgb(30,30,30)\",\n",
        "        font=dict(color=\"white\"),\n",
        "        hovermode='closest',\n",
        "        showlegend=True,\n",
        "        legend=dict(\n",
        "            title=\"Category\",\n",
        "            font=dict(size=12),\n",
        "            orientation=\"h\",  # Horizontal legend\n",
        "            x=0.5,\n",
        "            xanchor=\"center\",\n",
        "            y=-0.1,\n",
        "        ),\n",
        "        transition=dict(\n",
        "            duration=500,\n",
        "            easing='cubic-in-out'\n",
        "        ),\n",
        "        width=1000,  # Increase width for larger graph\n",
        "        height=600   # Increase height for larger graph\n",
        "    )\n",
        "\n",
        "    return fig\n",
        "\n",
        "# Run the app\n",
        "if __name__ == '__main__':\n",
        "    app.run_server(debug=True)"
      ],
      "metadata": {
        "colab": {
          "base_uri": "https://localhost:8080/",
          "height": 672
        },
        "id": "esuynhHBkeJP",
        "outputId": "b930c340-3cfd-4b16-ee4e-3834710785de"
      },
      "execution_count": 2,
      "outputs": [
        {
          "output_type": "display_data",
          "data": {
            "text/plain": [
              "<IPython.core.display.Javascript object>"
            ],
            "application/javascript": [
              "(async (port, path, width, height, cache, element) => {\n",
              "    if (!google.colab.kernel.accessAllowed && !cache) {\n",
              "      return;\n",
              "    }\n",
              "    element.appendChild(document.createTextNode(''));\n",
              "    const url = await google.colab.kernel.proxyPort(port, {cache});\n",
              "    const iframe = document.createElement('iframe');\n",
              "    iframe.src = new URL(path, url).toString();\n",
              "    iframe.height = height;\n",
              "    iframe.width = width;\n",
              "    iframe.style.border = 0;\n",
              "    iframe.allow = [\n",
              "        'accelerometer',\n",
              "        'autoplay',\n",
              "        'camera',\n",
              "        'clipboard-read',\n",
              "        'clipboard-write',\n",
              "        'gyroscope',\n",
              "        'magnetometer',\n",
              "        'microphone',\n",
              "        'serial',\n",
              "        'usb',\n",
              "        'xr-spatial-tracking',\n",
              "    ].join('; ');\n",
              "    element.appendChild(iframe);\n",
              "  })(8050, \"/\", \"100%\", 650, false, window.element)"
            ]
          },
          "metadata": {}
        }
      ]
    },
    {
      "cell_type": "markdown",
      "source": [
        "When users hover over a specific category, such as Groceries, Utilities, or Vacation, the chart responds by emphasizing the selected category while dimming the others. This hover-based interaction allows users to focus on individual data points without losing sight of the overall context."
      ],
      "metadata": {
        "id": "7fsLZZ_wWauP"
      }
    }
  ]
}